{
 "cells": [
  {
   "cell_type": "code",
   "execution_count": 1,
   "metadata": {},
   "outputs": [],
   "source": [
    "import json\n",
    "from unrealcv import client\n",
    "from unrealcv.util import read_npy, read_png\n",
    "import matplotlib.pyplot as plt\n",
    "import numpy as np\n",
    "import cv2"
   ]
  },
  {
   "cell_type": "code",
   "execution_count": 5,
   "metadata": {},
   "outputs": [
    {
     "name": "stdout",
     "output_type": "stream",
     "text": [
      "\n",
      "A demo showing how to control a game using python\n",
      "a, d: rotate camera to left and right.\n",
      "q, e: move camera up and down.\n",
      "left, right, up, down: move around\n",
      "\n"
     ]
    }
   ],
   "source": [
    "help_message = '''\n",
    "A demo showing how to control a game using python\n",
    "a, d: rotate camera to left and right.\n",
    "q, e: move camera up and down.\n",
    "left, right, up, down: move around\n",
    "'''\n",
    "\n",
    "client.connect()\n",
    "if not client.isconnected():\n",
    "    print('UnrealCV server is not running. Run the game from http://unrealcv.github.io first.')\n",
    "else:\n",
    "    print(help_message)"
   ]
  },
  {
   "cell_type": "code",
   "execution_count": 30,
   "metadata": {},
   "outputs": [
    {
     "data": {
      "image/png": "[encoded data removed]",
      "text/plain": [
       "<Figure size 432x288 with 1 Axes>"
      ]
     },
     "metadata": {
      "needs_background": "light"
     },
     "output_type": "display_data"
    }
   ],
   "source": [
    "fig, ax = plt.subplots()\n",
    "img = np.zeros((480, 640, 4))\n",
    "ax.imshow(img)\n",
    "\n",
    "res = client.request('vget /camera/0/lit png')\n",
    "img = read_png(res)\n",
    "res = client.request('vget /camera/0/object_mask png')\n",
    "obj_mask = read_png(res)\n",
    "\n",
    "# print(event.key)\n",
    "# print('Requested image %s' % str(img.shape))\n",
    "hsv_img = cv2.cvtColor(img, cv2.COLOR_RGB2HSV)\n",
    "\n",
    "low_red = np.array([-60, 0, 0])\n",
    "high_red = np.array([40, 1000, 10000])\n",
    "mask = cv2.inRange(hsv_img, low_red, high_red)\n",
    "ax.imshow(obj_mask)\n",
    "fig.canvas.draw()\n"
   ]
  },
  {
   "cell_type": "code",
   "execution_count": 29,
   "metadata": {},
   "outputs": [
    {
     "data": {
      "text/plain": [
       "'InstancedFoliageActor_0 SM_MERGED_FloorBad_15 SM_MERGED_FloorGood Brush_1 CameraActor_0 HUD_0 ParticleEventManager_0 PlayerCameraManager_0 GameplayDebuggerCategoryReplicator_0 GameplayDebuggerPlayerManager_0 UnrealcvWorldController_0 BP_Sky_Sphere_C_2 GameNetworkManager_0 GameSession_0 GameStateBase_0 PlayerState_0 WorldSettings_1 PlayerController_0 DirectionalLight_1 Minimal_Default_C_0 AbstractNavData-Default BlockingVolume_7 BlockingVolume2 BlockingVolume3 BlockingVolume4 GlobalPostProcessVolume mygamemode_C_0 testpawn_C_0 PlayerStartPIE_0 DefaultPhysicsVolume_0 '"
      ]
     },
     "execution_count": 29,
     "metadata": {},
     "output_type": "execute_result"
    }
   ],
   "source": [
    "client.request('vget /objects')"
   ]
  },
  {
   "cell_type": "code",
   "execution_count": 31,
   "metadata": {},
   "outputs": [
    {
     "data": {
      "text/plain": [
       "'PawnSensor '"
      ]
     },
     "execution_count": 31,
     "metadata": {},
     "output_type": "execute_result"
    }
   ],
   "source": [
    "client.request('vget /cameras')"
   ]
  },
  {
   "cell_type": "code",
   "execution_count": null,
   "metadata": {},
   "outputs": [],
   "source": []
  }
 ],
 "metadata": {
  "kernelspec": {
   "display_name": "Python 3",
   "language": "python",
   "name": "python3"
  },
  "language_info": {
   "codemirror_mode": {
    "name": "ipython",
    "version": 3
   },
   "file_extension": ".py",
   "mimetype": "text/x-python",
   "name": "python",
   "nbconvert_exporter": "python",
   "pygments_lexer": "ipython3",
   "version": "3.5.6"
  }
 },
 "nbformat": 4,
 "nbformat_minor": 4
}
